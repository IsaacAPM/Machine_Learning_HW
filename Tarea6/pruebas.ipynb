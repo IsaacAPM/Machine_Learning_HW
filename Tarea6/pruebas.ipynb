{
 "cells": [
  {
   "cell_type": "code",
   "execution_count": 2,
   "id": "dcd6fb61",
   "metadata": {},
   "outputs": [],
   "source": [
    "import numpy as np"
   ]
  },
  {
   "cell_type": "code",
   "execution_count": 5,
   "id": "e5c0c2f8",
   "metadata": {},
   "outputs": [],
   "source": [
    "class kernelPerceptron:\n",
    "    \"\"\"\n",
    "    Esta clase definie un Kernel Perceptrón con la posiblidad de elegir distintos tipos\n",
    "    de kernel para ejecutar el algoritmo\n",
    "    \"\"\"\n",
    "    \n",
    "    def __init__():\n",
    "        self.alphas = 0\n",
    "        self.kernel = lambda x1,x2 : (1 + x1@x2)**2\n",
    "        \n",
    "    del set_kernel(kernel_name,Q=2):\n",
    "        \"\"\"\n",
    "        Esta función permite cambiar el kernel utilzado para el algoritmo,\n",
    "        por defecto el metodo utilza un kernel polinómico de grado 2\n",
    "        \n",
    "        Parametros:\n",
    "            kernel_name: nombre del kernel que se desea utilizar\n",
    "        \"\"\"\n",
    "        \n",
    "        if kernel_name=='polinomico':\n",
    "            self.kernel = lambda x1,x2 : (1 + x1@x2)**Q\n",
    "        elif kernel_name=='base_radial':\n",
    "            self.kernel = lambda x1,x2 : np.exp((-1/2)*np.norm(x1-x2)**2)\n",
    "        else:\n",
    "             raise ValueError(\"El kernel indicado no esta disponible\")\n",
    "            \n",
    "            \n",
    "        \n",
    "    def KP(X,Y):\n",
    "        \"\"\"\n",
    "        Esta función implimenta el algoritmo del Kernel perceptrón \n",
    "        \n",
    "        Parametros:\n",
    "            X: El vector de caracteristicas para el entrenamiento;\n",
    "            Y: Las etiquetas del vector X;\n",
    "        \"\"\"\n",
    "        n = X.shape[0]\n",
    "        self.alphas = np.zeros(n)\n",
    "        \n",
    "        for i in range(n):\n",
    "            suma = 0\n",
    "            for j in range(n):\n",
    "                suma += self.alphas[j]*Y[j]*self.Kernel(X[j],X[i])\n",
    "            \n",
    "            if y[i]*suma <= 0 :\n",
    "                self.alphas[i] += 1\n",
    "                \n",
    "    "
   ]
  },
  {
   "cell_type": "code",
   "execution_count": null,
   "id": "0090e5c8",
   "metadata": {},
   "outputs": [],
   "source": []
  },
  {
   "cell_type": "code",
   "execution_count": null,
   "id": "3f147652",
   "metadata": {},
   "outputs": [],
   "source": []
  }
 ],
 "metadata": {
  "kernelspec": {
   "display_name": "Python 3 (ipykernel)",
   "language": "python",
   "name": "python3"
  },
  "language_info": {
   "codemirror_mode": {
    "name": "ipython",
    "version": 3
   },
   "file_extension": ".py",
   "mimetype": "text/x-python",
   "name": "python",
   "nbconvert_exporter": "python",
   "pygments_lexer": "ipython3",
   "version": "3.9.7"
  }
 },
 "nbformat": 4,
 "nbformat_minor": 5
}
